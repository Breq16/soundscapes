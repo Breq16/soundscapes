{
 "cells": [
  {
   "cell_type": "markdown",
   "metadata": {},
   "source": [
    "# Soundscapes\n",
    "\n",
    "Artificially generated soundscapes created from data, representing a range of cities."
   ]
  },
  {
   "cell_type": "code",
   "execution_count": 3,
   "metadata": {},
   "outputs": [],
   "source": [
    "import csv\n",
    "import itertools\n",
    "import time\n",
    "from dataclasses import dataclass\n",
    "\n",
    "import mido"
   ]
  },
  {
   "cell_type": "markdown",
   "metadata": {},
   "source": [
    "Data is stored as a mapping of *cities* to a set of *tracks*, each containing *ticks*, each containing *messages*. Each track represents a single data source, and each tick represents an instant in time. Tracks can be looped, not necessarily in sync with each other.\n",
    "\n",
    "Ticks additionally contain a list of \"cleanup messages,\" which will stop any notes currently being played in case the user wishes to terminate the audio."
   ]
  },
  {
   "cell_type": "code",
   "execution_count": 4,
   "metadata": {},
   "outputs": [
    {
     "name": "stdout",
     "output_type": "stream",
     "text": [
      "{'LAX': {'weather': [], 'tides': []}, 'ANC': {'weather': [], 'tides': []}, 'BOS': {'weather': [], 'tides': []}}\n"
     ]
    }
   ],
   "source": [
    "CITIES = [\"LAX\", \"ANC\", \"BOS\"]\n",
    "\n",
    "@dataclass\n",
    "class Tick:\n",
    "    messages: list[mido.Message]\n",
    "    cleanup: list[mido.Message]\n",
    "    \n",
    "    @classmethod\n",
    "    def merge(cls, *ticks):\n",
    "        messages = []\n",
    "        cleanup = []\n",
    "        \n",
    "        for tick in ticks:\n",
    "            messages += tick.messages\n",
    "            cleanup += tick.cleanup\n",
    "        \n",
    "        return cls(messages, cleanup)\n",
    "\n",
    "TRACKS: dict[str, dict[str, list[Tick]]] = {\n",
    "    city: {\n",
    "        \"weather\": [],\n",
    "        \"tides\": [],\n",
    "    } for city in CITIES\n",
    "}\n",
    "\n",
    "print(TRACKS)"
   ]
  },
  {
   "cell_type": "markdown",
   "metadata": {},
   "source": [
    "We'll want to map data to notes on a musical scale. We can generate lookup tables (index -> note number) for a few common ones."
   ]
  },
  {
   "cell_type": "code",
   "execution_count": 5,
   "metadata": {},
   "outputs": [
    {
     "name": "stdout",
     "output_type": "stream",
     "text": [
      "[0, 2, 4, 7, 9, 12, 14, 16, 19, 21, 24, 26, 28, 31, 33, 36, 38, 40, 43, 45, 48, 50, 52, 55, 57, 60, 62, 64, 67, 69, 72, 74, 76, 79, 81, 84, 86, 88, 91, 93, 96, 98, 100, 103, 105, 108, 110, 112, 115, 117, 120, 122, 124]\n"
     ]
    }
   ],
   "source": [
    "def extend_scale(scale):\n",
    "    return list(\n",
    "        note for note in itertools.chain(\n",
    "            *([i + offset for offset in scale] for i in range(0, 127, 12))\n",
    "        )\n",
    "        if note in range(0, 127)\n",
    "    )\n",
    "\n",
    "SCALES = {\n",
    "    \"chromatic\": list(range(127)),\n",
    "    \"major\": extend_scale([0, 2, 4, 5, 7, 9, 11]),\n",
    "    \"minor\": extend_scale([0, 2, 3, 5, 7, 8, 10]),\n",
    "    \"pentatonic\": extend_scale([0, 2, 4, 7, 9]),\n",
    "}\n",
    "\n",
    "print(SCALES[\"pentatonic\"])"
   ]
  },
  {
   "cell_type": "markdown",
   "metadata": {},
   "source": [
    "### Weather Data\n",
    "\n",
    "Data is sourced from NOAA, through their free [Climate Data Online](https://www.ncdc.noaa.gov/cdo-web/) service."
   ]
  },
  {
   "cell_type": "code",
   "execution_count": 6,
   "metadata": {},
   "outputs": [
    {
     "name": "stdout",
     "output_type": "stream",
     "text": [
      "['STATION', 'NAME', 'DATE', 'AWND', 'PGTM', 'PRCP', 'SNOW', 'SNWD', 'TAVG', 'TMAX', 'TMIN', 'WDF2', 'WDF5', 'WSF2', 'WSF5', 'WT01', 'WT02', 'WT03', 'WT04', 'WT05', 'WT06', 'WT08', 'WT09']\n"
     ]
    }
   ],
   "source": [
    "with open('sources/weather.csv', 'r') as f:\n",
    "    weather_data = list(csv.reader(f))\n",
    "  \n",
    "weather_header = weather_data[0]\n",
    "weather_data = weather_data[1:]\n",
    "\n",
    "print(weather_header)"
   ]
  },
  {
   "cell_type": "markdown",
   "metadata": {},
   "source": [
    "This includes data from the following stations:\n",
    "\n",
    "| Station ID | City |\n",
    "| --- | --- |\n",
    "| USW00023174 | Los Angeles |\n",
    "| USW00026451 | Anchorage |\n",
    "| USW00014739 | Boston |\n",
    "\n",
    "Each station reports the following data:\n",
    "\n",
    "* Average Wind\n",
    "* Precipitation\n",
    "* Average Temperature"
   ]
  },
  {
   "cell_type": "code",
   "execution_count": 7,
   "metadata": {},
   "outputs": [],
   "source": [
    "from dataclasses import dataclass\n",
    "\n",
    "@dataclass\n",
    "class WeatherReport:\n",
    "    station: str\n",
    "    date: str\n",
    "    wind: float\n",
    "    precip: float\n",
    "    temp: float"
   ]
  },
  {
   "cell_type": "code",
   "execution_count": 8,
   "metadata": {},
   "outputs": [
    {
     "name": "stdout",
     "output_type": "stream",
     "text": [
      "LAX: 365 reports\n",
      "ANC: 365 reports\n",
      "BOS: 365 reports\n"
     ]
    }
   ],
   "source": [
    "weather_reports = {}\n",
    "\n",
    "WEATHER_STATIONS = {\n",
    "    \"USW00023174\": \"LAX\",\n",
    "    \"USW00026451\": \"ANC\",\n",
    "    \"USW00014739\": \"BOS\",\n",
    "}\n",
    "\n",
    "for row in weather_data:\n",
    "    report = WeatherReport(\n",
    "        WEATHER_STATIONS[row[weather_header.index(\"STATION\")]],\n",
    "        row[weather_header.index(\"DATE\")],\n",
    "        float(row[weather_header.index(\"AWND\")]), # average wind\n",
    "        float(row[weather_header.index(\"PRCP\")]), # precipitation\n",
    "        float(row[weather_header.index(\"TMAX\")]) # max temp\n",
    "    )\n",
    "    if report.station not in weather_reports:\n",
    "        weather_reports[report.station] = []\n",
    "    weather_reports[report.station].append(report)\n",
    "\n",
    "print(*[f\"{station}: {len(reports)} reports\" for station, reports in weather_reports.items()], sep='\\n')"
   ]
  },
  {
   "cell_type": "markdown",
   "metadata": {},
   "source": [
    "Audio is generated as MIDI files by traversing chronologically through the readings.\n",
    "\n",
    "Temperature maps to note pitch, using a chromatic scale.\n",
    "\n",
    "Wind speed maps to CC 21, and precipitation maps to CC 22."
   ]
  },
  {
   "cell_type": "code",
   "execution_count": 9,
   "metadata": {},
   "outputs": [],
   "source": [
    "for station, reports in weather_reports.items():\n",
    "    track = TRACKS[station][\"weather\"]\n",
    "    \n",
    "    prev_note = None\n",
    "    \n",
    "    for report in reports:\n",
    "        note = SCALES[\"pentatonic\"][int(round(report.temp * 3/5 - 8))]\n",
    "        \n",
    "        tick = []\n",
    "        \n",
    "        tick.append(mido.Message(\"control_change\", channel=0, control=22, value=int(min(round(report.precip * 50), 127))))\n",
    "\n",
    "        \n",
    "        tick.append(mido.Message(\"note_on\", note=note, velocity=127))\n",
    "        if prev_note is not None and prev_note != note:\n",
    "            tick.append(mido.Message(\"note_off\", note=prev_note, velocity=127))\n",
    "        \n",
    "        tick.append(mido.Message(\"control_change\", channel=0, control=21, value=int(round(report.wind * 127/30))))\n",
    "        \n",
    "        prev_note = note\n",
    "        \n",
    "        track.append(Tick(tick, [mido.Message(\"note_off\", note=note, velocity=127)]))"
   ]
  },
  {
   "cell_type": "markdown",
   "metadata": {},
   "source": [
    "### Tidal Data\n",
    "\n",
    "This data comes from NOAA's [Tides and Currents](https://tidesandcurrents.noaa.gov/) service, using the following marine stations:\n",
    "\n",
    "| Station ID | City |\n",
    "| --- | --- |\n",
    "| 9410660 | Los Angeles |\n",
    "| 9455920 | Anchorage |\n",
    "| 8443970 | Boston |"
   ]
  },
  {
   "cell_type": "code",
   "execution_count": 10,
   "metadata": {},
   "outputs": [
    {
     "name": "stdout",
     "output_type": "stream",
     "text": [
      "9410660: 8760 reports\n",
      "9455920: 8713 reports\n",
      "8443970: 8760 reports\n"
     ]
    }
   ],
   "source": [
    "MARINE_STATIONS = {\n",
    "    \"9410660\": \"LAX\",\n",
    "    \"9455920\": \"ANC\",\n",
    "    \"8443970\": \"BOS\",\n",
    "}\n",
    "\n",
    "tidal_reports = {}\n",
    "\n",
    "for station in MARINE_STATIONS:\n",
    "    with open(f'sources/tides/{station}.csv', 'r') as f:\n",
    "        data = list(csv.reader(f))\n",
    "        header = data[0]\n",
    "        data = data[1:]\n",
    "        tidal_reports[station] = [float(row[header.index(\" Water Level\")]) for row in data]\n",
    "        \n",
    "print(*[f\"{station}: {len(reports)} reports\" for station, reports in tidal_reports.items()], sep='\\n')"
   ]
  },
  {
   "cell_type": "code",
   "execution_count": 11,
   "metadata": {},
   "outputs": [],
   "source": [
    "tidal_averages = {\n",
    "  station: sum(reports) / len(reports)\n",
    "  for station, reports in tidal_reports.items()\n",
    "}\n",
    "\n",
    "tidal_reports = {\n",
    "  station: [report - tidal_averages[station] for report in reports]\n",
    "  for station, reports in tidal_reports.items()\n",
    "}"
   ]
  },
  {
   "cell_type": "code",
   "execution_count": 12,
   "metadata": {},
   "outputs": [],
   "source": [
    "for station, reports in tidal_reports.items():\n",
    "    track = TRACKS[MARINE_STATIONS[station]][\"tides\"]\n",
    "    \n",
    "    prev_note = None\n",
    "    \n",
    "    for report in reports:\n",
    "        # note = SCALES[\"pentatonic\"][int(round(report * 2/3))]\n",
    "        note = 10\n",
    "        \n",
    "        tick = []\n",
    "\n",
    "        tick.append(mido.Message(\"note_on\", channel=1, note=note, velocity=127))\n",
    "        \n",
    "        scaled = max(min(int(round(report * 8 + 64)), 127), 0)\n",
    "\n",
    "        tick.append(mido.Message(\"control_change\", channel=1, control=23, value=scaled))\n",
    "        \n",
    "        if prev_note is not None and prev_note != note:\n",
    "            tick.append(mido.Message(\"note_off\", channel=1, note=prev_note, velocity=127))\n",
    "        \n",
    "        prev_note = note\n",
    "        \n",
    "        track.append(Tick(tick, [mido.Message(\"note_off\", channel=1, note=note, velocity=127)]))"
   ]
  },
  {
   "cell_type": "markdown",
   "metadata": {},
   "source": [
    "## Playing Tracks"
   ]
  },
  {
   "cell_type": "code",
   "execution_count": 13,
   "metadata": {},
   "outputs": [],
   "source": [
    "def play_midi(city):\n",
    "    port = mido.open_output(\"Soundscapes by breq\", virtual=True)\n",
    "    \n",
    "    tick_count = 0\n",
    "    tick = None\n",
    "    \n",
    "    try:\n",
    "        while True:\n",
    "            try:\n",
    "                tick = Tick.merge(*[track[tick_count % len(track)] for track in TRACKS[city].values() if tick_count < len(track)])\n",
    "                \n",
    "                for message in tick.messages:\n",
    "                    port.send(message)\n",
    "                    \n",
    "                tick_count += 1\n",
    "                    \n",
    "                time.sleep(0.1)\n",
    "            finally:\n",
    "                if tick is not None:          \n",
    "                    for message in tick.cleanup:\n",
    "                        port.send(message)\n",
    "    except KeyboardInterrupt:\n",
    "        pass\n",
    "    finally:\n",
    "        port.close()"
   ]
  },
  {
   "cell_type": "code",
   "execution_count": 14,
   "metadata": {},
   "outputs": [],
   "source": [
    "play_midi(\"ANC\")"
   ]
  }
 ],
 "metadata": {
  "interpreter": {
   "hash": "aee8b7b246df8f9039afb4144a1f6fd8d2ca17a180786b69acc140d282b71a49"
  },
  "kernelspec": {
   "display_name": "Python 3.10.2 64-bit",
   "language": "python",
   "name": "python3"
  },
  "language_info": {
   "codemirror_mode": {
    "name": "ipython",
    "version": 3
   },
   "file_extension": ".py",
   "mimetype": "text/x-python",
   "name": "python",
   "nbconvert_exporter": "python",
   "pygments_lexer": "ipython3",
   "version": "3.10.2"
  },
  "orig_nbformat": 4
 },
 "nbformat": 4,
 "nbformat_minor": 2
}
