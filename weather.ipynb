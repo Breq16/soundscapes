{
 "cells": [
  {
   "cell_type": "markdown",
   "metadata": {},
   "source": [
    "# Weather Data\n",
    "\n",
    "Data is sourced from NOAA, through their free [Climate Data Online](https://www.ncdc.noaa.gov/cdo-web/) service."
   ]
  },
  {
   "cell_type": "code",
   "execution_count": 27,
   "metadata": {},
   "outputs": [
    {
     "name": "stdout",
     "output_type": "stream",
     "text": [
      "['STATION', 'NAME', 'DATE', 'AWND', 'PGTM', 'PRCP', 'SNOW', 'SNWD', 'TAVG', 'TMAX', 'TMIN', 'WDF2', 'WDF5', 'WSF2', 'WSF5', 'WT01', 'WT02', 'WT03', 'WT04', 'WT05', 'WT06', 'WT08', 'WT09']\n"
     ]
    }
   ],
   "source": [
    "import csv\n",
    "\n",
    "with open('sources/weather.csv', 'r') as f:\n",
    "    reader = csv.reader(f)\n",
    "    data = list(reader)\n",
    "  \n",
    "header = data[0]\n",
    "data = data[1:]\n",
    "\n",
    "print(header)"
   ]
  },
  {
   "cell_type": "markdown",
   "metadata": {},
   "source": [
    "This includes data from the following stations:\n",
    "\n",
    "| Station ID | City |\n",
    "| --- | --- |\n",
    "| USW00023174 | Los Angeles |\n",
    "| USW00026451 | Anchorage |\n",
    "| USW00014739 | Boston |\n",
    "\n",
    "Each station reports the following data:\n",
    "\n",
    "* Average Wind\n",
    "* Precipitation\n",
    "* Average Temperature"
   ]
  },
  {
   "cell_type": "code",
   "execution_count": 28,
   "metadata": {},
   "outputs": [],
   "source": [
    "from dataclasses import dataclass\n",
    "\n",
    "@dataclass\n",
    "class Report:\n",
    "    station: str\n",
    "    date: str\n",
    "    wind: float\n",
    "    precip: float\n",
    "    temp: float"
   ]
  },
  {
   "cell_type": "code",
   "execution_count": 29,
   "metadata": {},
   "outputs": [
    {
     "name": "stdout",
     "output_type": "stream",
     "text": [
      "USW00023174: 365 reports\n",
      "USW00026451: 365 reports\n",
      "USW00014739: 365 reports\n"
     ]
    }
   ],
   "source": [
    "reports = {}\n",
    "\n",
    "for row in data:\n",
    "    report = Report(\n",
    "        row[header.index(\"STATION\")],\n",
    "        row[header.index(\"DATE\")],\n",
    "        float(row[header.index(\"AWND\")]), # average wind\n",
    "        float(row[header.index(\"PRCP\")]), # precipitation\n",
    "        float(row[header.index(\"TMAX\")]) # max temp\n",
    "    )\n",
    "    if report.station not in reports:\n",
    "        reports[report.station] = []\n",
    "    reports[report.station].append(report)\n",
    "\n",
    "print(*[f\"{station}: {len(reports[station])} reports\" for station in reports], sep='\\n')"
   ]
  },
  {
   "cell_type": "markdown",
   "metadata": {},
   "source": [
    "We'll want to map data to a scale. We can generate lookup tables (index -> note number) for a few common ones."
   ]
  },
  {
   "cell_type": "code",
   "execution_count": 48,
   "metadata": {},
   "outputs": [
    {
     "name": "stdout",
     "output_type": "stream",
     "text": [
      "{'chromatic': [0, 1, 2, 3, 4, 5, 6, 7, 8, 9, 10, 11, 12, 13, 14, 15, 16, 17, 18, 19, 20, 21, 22, 23, 24, 25, 26, 27, 28, 29, 30, 31, 32, 33, 34, 35, 36, 37, 38, 39, 40, 41, 42, 43, 44, 45, 46, 47, 48, 49, 50, 51, 52, 53, 54, 55, 56, 57, 58, 59, 60, 61, 62, 63, 64, 65, 66, 67, 68, 69, 70, 71, 72, 73, 74, 75, 76, 77, 78, 79, 80, 81, 82, 83, 84, 85, 86, 87, 88, 89, 90, 91, 92, 93, 94, 95, 96, 97, 98, 99, 100, 101, 102, 103, 104, 105, 106, 107, 108, 109, 110, 111, 112, 113, 114, 115, 116, 117, 118, 119, 120, 121, 122, 123, 124, 125, 126], 'major': [0, 2, 4, 5, 7, 9, 11, 12, 14, 16, 17, 19, 21, 23, 24, 26, 28, 29, 31, 33, 35, 36, 38, 40, 41, 43, 45, 47, 48, 50, 52, 53, 55, 57, 59, 60, 62, 64, 65, 67, 69, 71, 72, 74, 76, 77, 79, 81, 83, 84, 86, 88, 89, 91, 93, 95, 96, 98, 100, 101, 103, 105, 107, 108, 110, 112, 113, 115, 117, 119, 120, 122, 124, 125], 'minor': [0, 2, 3, 5, 7, 8, 10, 12, 14, 15, 17, 19, 20, 22, 24, 26, 27, 29, 31, 32, 34, 36, 38, 39, 41, 43, 44, 46, 48, 50, 51, 53, 55, 56, 58, 60, 62, 63, 65, 67, 68, 70, 72, 74, 75, 77, 79, 80, 82, 84, 86, 87, 89, 91, 92, 94, 96, 98, 99, 101, 103, 104, 106, 108, 110, 111, 113, 115, 116, 118, 120, 122, 123, 125], 'pentatonic': [0, 2, 4, 7, 9, 12, 14, 16, 19, 21, 24, 26, 28, 31, 33, 36, 38, 40, 43, 45, 48, 50, 52, 55, 57, 60, 62, 64, 67, 69, 72, 74, 76, 79, 81, 84, 86, 88, 91, 93, 96, 98, 100, 103, 105, 108, 110, 112, 115, 117, 120, 122, 124]}\n"
     ]
    }
   ],
   "source": [
    "import itertools\n",
    "\n",
    "def extend(scale):\n",
    "  return list(note for note in itertools.chain(*([i + offset for offset in scale] for i in range(0, 127, 12))) if note in range(0, 127))\n",
    "\n",
    "scales = {\n",
    "  \"chromatic\": list(range(127)),\n",
    "  \"major\": extend([0, 2, 4, 5, 7, 9, 11]),\n",
    "  \"minor\": extend([0, 2, 3, 5, 7, 8, 10]),\n",
    "  \"pentatonic\": extend([0, 2, 4, 7, 9]),\n",
    "}\n",
    "\n",
    "print(scales)"
   ]
  },
  {
   "cell_type": "markdown",
   "metadata": {},
   "source": [
    "Audio is generated as MIDI files by traversing chronologically through the readings.\n",
    "\n",
    "Temperature maps to note pitch, using a chromatic scale.\n",
    "\n",
    "Wind speed maps to the modulation wheel."
   ]
  },
  {
   "cell_type": "code",
   "execution_count": 67,
   "metadata": {},
   "outputs": [],
   "source": [
    "import os\n",
    "import mido\n",
    "\n",
    "os.makedirs(\"output\", exist_ok=True)\n",
    "file = mido.MidiFile()\n",
    "\n",
    "for station, station_reports in reports.items():\n",
    "    track = mido.MidiTrack()\n",
    "\n",
    "    file.tracks.append(track)\n",
    "\n",
    "    track.append(mido.Message('program_change', program=0, time=0))\n",
    "    track.append(mido.MetaMessage('track_name', name=station, time=0))\n",
    "    \n",
    "    prev_note = None\n",
    "\n",
    "    for report in station_reports:\n",
    "        note = scales[\"pentatonic\"][int(round(report.temp * 3/5 - 8))]\n",
    "        \n",
    "        track.append(mido.Message('note_on', note=note, velocity=64, time=30))\n",
    "        if prev_note and prev_note != note:\n",
    "            track.append(mido.Message('note_off', note=prev_note, velocity=64, time=10))\n",
    "        \n",
    "        track.append(mido.Message('control_change', control=1, value=int(round(report.wind * 3)), time=0))\n",
    "        track.append(mido.Message('control_change', control=21, value=int(round(report.precip * 30)), time=0))\n",
    "        \n",
    "        prev_note = note\n",
    "\n",
    "file.save(f'output/weather.mid')"
   ]
  }
 ],
 "metadata": {
  "interpreter": {
   "hash": "aee8b7b246df8f9039afb4144a1f6fd8d2ca17a180786b69acc140d282b71a49"
  },
  "kernelspec": {
   "display_name": "Python 3.10.2 64-bit",
   "language": "python",
   "name": "python3"
  },
  "language_info": {
   "codemirror_mode": {
    "name": "ipython",
    "version": 3
   },
   "file_extension": ".py",
   "mimetype": "text/x-python",
   "name": "python",
   "nbconvert_exporter": "python",
   "pygments_lexer": "ipython3",
   "version": "3.10.2"
  },
  "orig_nbformat": 4
 },
 "nbformat": 4,
 "nbformat_minor": 2
}
