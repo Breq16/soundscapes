{
 "cells": [
  {
   "cell_type": "markdown",
   "metadata": {},
   "source": [
    "# Weather Data\n",
    "\n",
    "Data is sourced from NOAA, through their free [Climate Data Online](https://www.ncdc.noaa.gov/cdo-web/) service."
   ]
  },
  {
   "cell_type": "code",
   "execution_count": 4,
   "metadata": {},
   "outputs": [
    {
     "name": "stdout",
     "output_type": "stream",
     "text": [
      "['STATION', 'NAME', 'DATE', 'AWND', 'PGTM', 'PRCP', 'SNOW', 'SNWD', 'TAVG', 'TMAX', 'TMIN', 'WDF2', 'WDF5', 'WSF2', 'WSF5', 'WT01', 'WT02', 'WT03', 'WT04', 'WT05', 'WT06', 'WT08', 'WT09']\n"
     ]
    }
   ],
   "source": [
    "import csv\n",
    "\n",
    "with open('data.csv', 'r') as f:\n",
    "    reader = csv.reader(f)\n",
    "    data = list(reader)\n",
    "  \n",
    "header = data[0]\n",
    "data = data[1:]\n",
    "\n",
    "print(header)"
   ]
  },
  {
   "cell_type": "markdown",
   "metadata": {},
   "source": [
    "This includes data from the following stations:\n",
    "\n",
    "| Station ID | City |\n",
    "| --- | --- |\n",
    "| USW00023174 | Los Angeles |\n",
    "| USW00026451 | Anchorage |\n",
    "| USW00014739 | Boston |\n",
    "\n",
    "Each station reports the following data:\n",
    "\n",
    "* Average Wind\n",
    "* Precipitation\n",
    "* Average Temperature"
   ]
  },
  {
   "cell_type": "code",
   "execution_count": 5,
   "metadata": {},
   "outputs": [],
   "source": [
    "from dataclasses import dataclass\n",
    "\n",
    "@dataclass\n",
    "class Report:\n",
    "    station: str\n",
    "    date: str\n",
    "    wind: float\n",
    "    precip: float\n",
    "    temp: float"
   ]
  },
  {
   "cell_type": "code",
   "execution_count": 6,
   "metadata": {},
   "outputs": [
    {
     "name": "stdout",
     "output_type": "stream",
     "text": [
      "USW00023174: 365 reports\n",
      "USW00026451: 365 reports\n",
      "USW00014739: 365 reports\n"
     ]
    }
   ],
   "source": [
    "reports = {}\n",
    "\n",
    "for row in data:\n",
    "    report = Report(\n",
    "        row[header.index(\"STATION\")],\n",
    "        row[header.index(\"DATE\")],\n",
    "        float(row[header.index(\"AWND\")]), # average wind\n",
    "        float(row[header.index(\"PRCP\")]), # precipitation\n",
    "        float(row[header.index(\"TMAX\")]) # max temp\n",
    "    )\n",
    "    if report.station not in reports:\n",
    "        reports[report.station] = []\n",
    "    reports[report.station].append(report)\n",
    "\n",
    "print(*[f\"{station}: {len(reports[station])} reports\" for station in reports], sep='\\n')"
   ]
  },
  {
   "cell_type": "markdown",
   "metadata": {},
   "source": [
    "Audio is generated as MIDI files by traversing chronologically through the readings."
   ]
  },
  {
   "cell_type": "code",
   "execution_count": 21,
   "metadata": {},
   "outputs": [],
   "source": [
    "import os\n",
    "import mido\n",
    "\n",
    "os.makedirs(\"output\", exist_ok=True)\n",
    "file = mido.MidiFile()\n",
    "\n",
    "for station, reports in reports.items():\n",
    "    track = mido.MidiTrack()\n",
    "\n",
    "    file.tracks.append(track)\n",
    "\n",
    "    track.append(mido.Message('program_change', program=0, time=0))\n",
    "    track.append(mido.MetaMessage('track_name', name=station, time=0))\n",
    "\n",
    "    for report in reports:\n",
    "        track.append(mido.Message('note_on', note=int(round(report.temp)), velocity=64, time=0))\n",
    "        track.append(mido.Message('control_change', control=1, value=int(round(report.wind * 3)), time=0))\n",
    "        track.append(mido.Message('note_off', note=int(round(report.temp)), velocity=64, time=20))\n",
    "\n",
    "file.save(f'output/weather.mid')"
   ]
  }
 ],
 "metadata": {
  "interpreter": {
   "hash": "aee8b7b246df8f9039afb4144a1f6fd8d2ca17a180786b69acc140d282b71a49"
  },
  "kernelspec": {
   "display_name": "Python 3.10.2 64-bit",
   "language": "python",
   "name": "python3"
  },
  "language_info": {
   "codemirror_mode": {
    "name": "ipython",
    "version": 3
   },
   "file_extension": ".py",
   "mimetype": "text/x-python",
   "name": "python",
   "nbconvert_exporter": "python",
   "pygments_lexer": "ipython3",
   "version": "3.10.2"
  },
  "orig_nbformat": 4
 },
 "nbformat": 4,
 "nbformat_minor": 2
}
